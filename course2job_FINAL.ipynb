{
 "cells": [
  {
   "cell_type": "markdown",
   "metadata": {
    "Collapsed": "false"
   },
   "source": [
    "# Import & Files"
   ]
  },
  {
   "cell_type": "code",
   "execution_count": 1,
   "metadata": {
    "Collapsed": "false"
   },
   "outputs": [
    {
     "name": "stderr",
     "output_type": "stream",
     "text": [
      "C:\\Users\\asthe\\Anaconda3\\lib\\site-packages\\gensim\\utils.py:1197: UserWarning: detected Windows; aliasing chunkize to chunkize_serial\n",
      "  warnings.warn(\"detected Windows; aliasing chunkize to chunkize_serial\")\n"
     ]
    }
   ],
   "source": [
    "import sklearn.linear_model\n",
    "import pandas as pd\n",
    "import numpy as np\n",
    "pd.set_option('display.max_columns',None)\n",
    "import re\n",
    "from sklearn.cluster import KMeans \n",
    "from sklearn.feature_extraction.text import TfidfVectorizer\n",
    "from sklearn.decomposition import PCA\n",
    "from sklearn.preprocessing import normalize\n",
    "from sklearn.metrics import pairwise_distances\n",
    "import nltk\n",
    "from nltk.corpus import stopwords\n",
    "from nltk import WordNetLemmatizer\n",
    "stop_words = stopwords.words('english')\n",
    "import string\n",
    "import gensim\n",
    "from gensim.models import Phrases\n",
    "import random\n",
    "from tqdm import tqdm\n",
    "from gensim.models import Word2Vec \n",
    "from gensim.utils import simple_preprocess"
   ]
  },
  {
   "cell_type": "code",
   "execution_count": 16,
   "metadata": {
    "Collapsed": "false"
   },
   "outputs": [],
   "source": [
    "GD=pd.read_json('./data/Glassdoor_Data.json', compression=\"gzip\")\n",
    "linkedin=pd.read_csv('./data/LinkedIn_Skills.csv')\n",
    "c_jobs=pd.read_json('./data/Clustered_Jobs_1.json')\n",
    "all_courses=pd.read_csv('./data/all_courses.csv')"
   ]
  },
  {
   "cell_type": "markdown",
   "metadata": {
    "Collapsed": "false"
   },
   "source": [
    "# Preprocessing"
   ]
  },
  {
   "cell_type": "code",
   "execution_count": 4,
   "metadata": {
    "Collapsed": "false"
   },
   "outputs": [],
   "source": [
    "#remove missing data\n",
    "c_jobs = c_jobs.replace(np.nan, '', regex=True)\n",
    "all_courses=all_courses.replace(np.nan, '', regex=True)"
   ]
  },
  {
   "cell_type": "markdown",
   "metadata": {
    "Collapsed": "false"
   },
   "source": [
    "**Glassdoor**"
   ]
  },
  {
   "cell_type": "code",
   "execution_count": 3,
   "metadata": {
    "Collapsed": "false"
   },
   "outputs": [],
   "source": [
    "GD['ColumnA']=GD['job_description'].apply(str.lower).apply(lambda x: ' '.join(x for x in x.split() if x not in stop_words)).apply(lambda x: ' '.join([WordNetLemmatizer().lemmatize(word) for word in x.split()]))"
   ]
  },
  {
   "cell_type": "markdown",
   "metadata": {
    "Collapsed": "false"
   },
   "source": [
    "**NYC Civil Jobs**"
   ]
  },
  {
   "cell_type": "code",
   "execution_count": 5,
   "metadata": {
    "Collapsed": "false"
   },
   "outputs": [],
   "source": [
    "c_jobs['clean_column_A']=c_jobs['ColumnA'].apply(str.lower).apply(lambda x: ' '.join(x for x in x.split() if x not in stop_words)).apply(lambda x: ' '.join([WordNetLemmatizer().lemmatize(word) for word in x.split()]))"
   ]
  },
  {
   "cell_type": "markdown",
   "metadata": {
    "Collapsed": "false"
   },
   "source": [
    "**Courses**"
   ]
  },
  {
   "cell_type": "code",
   "execution_count": 6,
   "metadata": {
    "Collapsed": "false"
   },
   "outputs": [],
   "source": [
    "all_courses['Description_Set']=all_courses['skills']+\" \"+all_courses['summary']\n",
    "all_courses['Description_Set']=all_courses['Description_Set'].apply(str.lower).apply(lambda x: ' '.join(x for x in x.split() if x not in stop_words)).apply(lambda x: ' '.join([WordNetLemmatizer().lemmatize(word) for word in x.split()]))\n",
    "all_courses['Description'] = all_courses.Description_Set.tolist()\n",
    "all_courses['Description_Final'] = [doc.split(' ') for doc in all_courses.Description]"
   ]
  },
  {
   "cell_type": "markdown",
   "metadata": {
    "Collapsed": "false"
   },
   "source": [
    "# Clustering"
   ]
  },
  {
   "cell_type": "markdown",
   "metadata": {
    "Collapsed": "false"
   },
   "source": [
    "## Setting Clusters"
   ]
  },
  {
   "cell_type": "markdown",
   "metadata": {
    "Collapsed": "false"
   },
   "source": [
    "**NYC Civil Jobs**"
   ]
  },
  {
   "cell_type": "code",
   "execution_count": 7,
   "metadata": {
    "Collapsed": "false"
   },
   "outputs": [],
   "source": [
    "from sklearn.feature_extraction.text import TfidfVectorizer\n",
    "data = c_jobs['clean_column_A']\n",
    "\n",
    "tf_idf_vectorizor = TfidfVectorizer(stop_words = 'english',#tokenizer = tokenize_and_stem,\n",
    "                             max_features = 20000,ngram_range=(1,3))\n",
    "tf_idf = tf_idf_vectorizor.fit_transform(data)\n",
    "tf_idf_norm = normalize(tf_idf)\n",
    "tf_idf_array = tf_idf_norm.toarray()"
   ]
  },
  {
   "cell_type": "code",
   "execution_count": 8,
   "metadata": {
    "Collapsed": "false"
   },
   "outputs": [],
   "source": [
    "from sklearn.cluster import KMeans\n",
    "sklearn_pca = PCA(n_components = 5)\n",
    "Y_sklearn = sklearn_pca.fit_transform(tf_idf_array)\n",
    "kmeans = KMeans(n_clusters=300, max_iter=600, algorithm = 'auto')\n",
    "fitted = kmeans.fit(Y_sklearn)\n",
    "prediction = kmeans.predict(Y_sklearn)"
   ]
  },
  {
   "cell_type": "code",
   "execution_count": 9,
   "metadata": {
    "Collapsed": "false"
   },
   "outputs": [],
   "source": [
    "def get_top_features_cluster(tf_idf_array, prediction, n_feats):\n",
    "    labels = np.unique(prediction)\n",
    "    dfs = []\n",
    "    for label in labels:\n",
    "        id_temp = np.where(prediction==label) # indices for each cluster\n",
    "        x_means = np.mean(tf_idf_array[id_temp], axis = 0) # returns average score across cluster\n",
    "        sorted_means = np.argsort(x_means)[::-1][:n_feats] # indices with top 20 scores\n",
    "        features = tf_idf_vectorizor.get_feature_names()\n",
    "        best_features = [(features[i], x_means[i]) for i in sorted_means]\n",
    "        df3 = pd.DataFrame(best_features, columns = ['features', 'score'])\n",
    "        dfs.append(df3)\n",
    "    return dfs\n",
    "dfs = get_top_features_cluster(tf_idf_array, prediction, 50)"
   ]
  },
  {
   "cell_type": "markdown",
   "metadata": {
    "Collapsed": "false"
   },
   "source": [
    "**Glassdoor**"
   ]
  },
  {
   "cell_type": "code",
   "execution_count": 4,
   "metadata": {
    "Collapsed": "false"
   },
   "outputs": [],
   "source": [
    "from sklearn.feature_extraction.text import TfidfVectorizer\n",
    "data = GD['ColumnA']\n",
    "\n",
    "tf_idf_vectorizor = TfidfVectorizer(stop_words = 'english',#tokenizer = tokenize_and_stem,\n",
    "                             max_features = 20000,ngram_range=(1,3))\n",
    "tf_idf = tf_idf_vectorizor.fit_transform(data)\n",
    "tf_idf_norm = normalize(tf_idf)\n",
    "tf_idf_array = tf_idf_norm.toarray()"
   ]
  },
  {
   "cell_type": "code",
   "execution_count": 5,
   "metadata": {
    "Collapsed": "false"
   },
   "outputs": [],
   "source": [
    "from sklearn.cluster import KMeans\n",
    "sklearn_pca = PCA(n_components = 5)\n",
    "Y_sklearn = sklearn_pca.fit_transform(tf_idf_array)\n",
    "kmeans = KMeans(n_clusters=300, max_iter=600, algorithm = 'auto')\n",
    "fitted = kmeans.fit(Y_sklearn)\n",
    "prediction = kmeans.predict(Y_sklearn)"
   ]
  },
  {
   "cell_type": "code",
   "execution_count": 6,
   "metadata": {
    "Collapsed": "false"
   },
   "outputs": [],
   "source": [
    "def get_top_features_cluster(tf_idf_array, prediction, n_feats):\n",
    "    labels = np.unique(prediction)\n",
    "    dfs = []\n",
    "    for label in labels:\n",
    "        id_temp = np.where(prediction==label) # indices for each cluster\n",
    "        x_means = np.mean(tf_idf_array[id_temp], axis = 0) # returns average score across cluster\n",
    "        sorted_means = np.argsort(x_means)[::-1][:n_feats] # indices with top 20 scores\n",
    "        features = tf_idf_vectorizor.get_feature_names()\n",
    "        best_features = [(features[i], x_means[i]) for i in sorted_means]\n",
    "        df3 = pd.DataFrame(best_features, columns = ['features', 'score'])\n",
    "        dfs.append(df3)\n",
    "    return dfs\n",
    "dfs = get_top_features_cluster(tf_idf_array, prediction, 50)"
   ]
  },
  {
   "cell_type": "code",
   "execution_count": null,
   "metadata": {
    "Collapsed": "false"
   },
   "outputs": [],
   "source": []
  },
  {
   "cell_type": "code",
   "execution_count": null,
   "metadata": {
    "Collapsed": "false"
   },
   "outputs": [],
   "source": []
  },
  {
   "cell_type": "code",
   "execution_count": null,
   "metadata": {
    "Collapsed": "false"
   },
   "outputs": [],
   "source": []
  },
  {
   "cell_type": "markdown",
   "metadata": {
    "Collapsed": "false"
   },
   "source": [
    "## Aggregation on Clusters"
   ]
  },
  {
   "cell_type": "markdown",
   "metadata": {
    "Collapsed": "false"
   },
   "source": [
    "**NYC Civil Jobs**"
   ]
  },
  {
   "cell_type": "code",
   "execution_count": 10,
   "metadata": {
    "Collapsed": "false"
   },
   "outputs": [],
   "source": [
    "FF=pd.DataFrame(dfs).reset_index()\n",
    "Clusters=pd.DataFrame(prediction)\n",
    "CJ=c_jobs.drop('0', axis=1)\n",
    "Test=CJ.join(Clusters, how='outer')\n",
    "Test['300_clusters']=Test[0]\n",
    "Test2=Test.drop(0, axis=1)\n",
    "jobs_with_clusters=pd.merge(Test2, FF, left_on='300_clusters', right_on='index')\n",
    "    #small dataframe (below) with 300 cluster aggregation\n",
    "Grouped_DF=jobs_with_clusters.groupby('300_clusters').clean_column_A.agg(lambda x: ' '.join(x))\n",
    "grouped_jobs=pd.DataFrame(Grouped_DF)"
   ]
  },
  {
   "cell_type": "markdown",
   "metadata": {
    "Collapsed": "false"
   },
   "source": [
    "**Glassdoor Jobs**"
   ]
  },
  {
   "cell_type": "code",
   "execution_count": 7,
   "metadata": {
    "Collapsed": "false"
   },
   "outputs": [],
   "source": [
    "FF=pd.DataFrame(dfs).reset_index()\n",
    "Clusters=pd.DataFrame(prediction)\n",
    "Test=GD.join(Clusters, how='outer')\n",
    "Test['GD_300_clusters']=Test[0]\n",
    "Test2=Test.drop(0, axis=1)\n",
    "GD_jobs_with_clusters=pd.merge(Test2, FF, left_on='GD_300_clusters', right_on='index')\n",
    "    #small dataframe (below) with 300 cluster aggregation\n",
    "Grouped_DF=GD_jobs_with_clusters.groupby('GD_300_clusters').ColumnA.agg(lambda x: ' '.join(x))\n",
    "GD_grouped_jobs=pd.DataFrame(Grouped_DF)"
   ]
  },
  {
   "cell_type": "markdown",
   "metadata": {
    "Collapsed": "false"
   },
   "source": [
    "# LinkedIn Filter"
   ]
  },
  {
   "cell_type": "markdown",
   "metadata": {
    "Collapsed": "false"
   },
   "source": [
    "## Build Linkedin Skills List"
   ]
  },
  {
   "cell_type": "code",
   "execution_count": 8,
   "metadata": {
    "Collapsed": "false"
   },
   "outputs": [],
   "source": [
    "     #build linkedin list\n",
    "linkedlist=list(linkedin['\\'05'])\n",
    "skills = [str(i) for i in linkedlist]\n",
    "skills = [str.lower(i) for i in skills]\n",
    "skills = [x for x in skills if not (x.isdigit() or x[0] == '-' and x[1:].isdigit())] #remove integers"
   ]
  },
  {
   "cell_type": "markdown",
   "metadata": {
    "Collapsed": "false"
   },
   "source": [
    "## Job Filtering"
   ]
  },
  {
   "cell_type": "markdown",
   "metadata": {
    "Collapsed": "false"
   },
   "source": [
    "**NYC Civil Jobs**"
   ]
  },
  {
   "cell_type": "code",
   "execution_count": 12,
   "metadata": {
    "Collapsed": "false"
   },
   "outputs": [],
   "source": [
    "# clean_column_A splitting into a list and making a column\n",
    "grouped_jobs['split_skills'] = grouped_jobs.clean_column_A.tolist()\n",
    "grouped_jobs['SKILLS_LIST'] = [doc.split(' ') for doc in grouped_jobs['split_skills']]\n",
    "grouped_jobs['MATCHED_COLUMN']=np.nan\n"
   ]
  },
  {
   "cell_type": "code",
   "execution_count": null,
   "metadata": {
    "Collapsed": "false"
   },
   "outputs": [],
   "source": [
    "skills_set= set(skills)\n",
    "\n",
    "grouped_jobs['MATCHED_COLUMN']=grouped_jobs['SKILLS_LIST'].apply(\n",
    "lambda x: list(set(x) & skills_set)\n",
    ")"
   ]
  },
  {
   "cell_type": "markdown",
   "metadata": {
    "Collapsed": "false"
   },
   "source": [
    "**Glassdoor**"
   ]
  },
  {
   "cell_type": "code",
   "execution_count": 9,
   "metadata": {
    "Collapsed": "false"
   },
   "outputs": [],
   "source": [
    "GD_grouped_jobs['split_skills'] = GD_grouped_jobs.ColumnA.tolist()\n",
    "GD_grouped_jobs['SKILLS_LIST'] = [doc.split(' ') for doc in GD_grouped_jobs['split_skills']]\n",
    "GD_grouped_jobs['MATCHED_COLUMN']=np.nan"
   ]
  },
  {
   "cell_type": "code",
   "execution_count": 10,
   "metadata": {
    "Collapsed": "false"
   },
   "outputs": [],
   "source": [
    "skills_set= set(skills)\n",
    "\n",
    "GD_grouped_jobs['MATCHED_COLUMN']=GD_grouped_jobs['SKILLS_LIST'].apply(\n",
    "lambda x: list(set(x) & skills_set)\n",
    ")"
   ]
  },
  {
   "cell_type": "markdown",
   "metadata": {
    "Collapsed": "false"
   },
   "source": [
    "## Course Filtering"
   ]
  },
  {
   "cell_type": "code",
   "execution_count": 15,
   "metadata": {
    "Collapsed": "false"
   },
   "outputs": [],
   "source": [
    "all_courses['MATCHED_COLUMN']=np.nan"
   ]
  },
  {
   "cell_type": "code",
   "execution_count": 16,
   "metadata": {
    "Collapsed": "false"
   },
   "outputs": [
    {
     "name": "stderr",
     "output_type": "stream",
     "text": [
      "C:\\Users\\asthe\\Anaconda3\\lib\\site-packages\\ipykernel_launcher.py:2: SettingWithCopyWarning: \n",
      "A value is trying to be set on a copy of a slice from a DataFrame\n",
      "\n",
      "See the caveats in the documentation: http://pandas.pydata.org/pandas-docs/stable/indexing.html#indexing-view-versus-copy\n",
      "  \n"
     ]
    }
   ],
   "source": [
    "skills_set= set(skills)\n",
    "\n",
    "all_courses['MATCHED_COLUMN_1']=all_courses['Description_Final'].apply(\n",
    "lambda x: list(set(x) & skills_set)\n",
    ")"
   ]
  },
  {
   "cell_type": "code",
   "execution_count": null,
   "metadata": {
    "Collapsed": "false"
   },
   "outputs": [],
   "source": [
    "GD_all_courses=all_courses.copy()"
   ]
  },
  {
   "cell_type": "markdown",
   "metadata": {
    "Collapsed": "false"
   },
   "source": [
    "# Optional Quantile Check"
   ]
  },
  {
   "cell_type": "markdown",
   "metadata": {
    "Collapsed": "false"
   },
   "source": [
    "## Setup GoogleNews Word2Vec"
   ]
  },
  {
   "cell_type": "code",
   "execution_count": 122,
   "metadata": {
    "Collapsed": "false"
   },
   "outputs": [],
   "source": [
    "import itertools"
   ]
  },
  {
   "cell_type": "code",
   "execution_count": 126,
   "metadata": {
    "Collapsed": "false"
   },
   "outputs": [
    {
     "name": "stderr",
     "output_type": "stream",
     "text": [
      "C:\\Users\\asthe\\Anaconda3\\lib\\site-packages\\smart_open\\smart_open_lib.py:398: UserWarning: This function is deprecated, use smart_open.open instead. See the migration notes for details: https://github.com/RaRe-Technologies/smart_open/blob/master/README.rst#migrating-to-the-new-open-function\n",
      "  'See the migration notes for details: %s' % _MIGRATION_NOTES_URL\n"
     ]
    }
   ],
   "source": [
    "model_GOOGLE = gensim.models.KeyedVectors.load_word2vec_format('GoogleNews-vectors-negative300.bin.gz', binary=True)"
   ]
  },
  {
   "cell_type": "code",
   "execution_count": 123,
   "metadata": {
    "Collapsed": "false"
   },
   "outputs": [],
   "source": [
    "test_skills = grouped_jobs[\"MATCHED_COLUMN\"] #optional Glassdoor version of this too"
   ]
  },
  {
   "cell_type": "code",
   "execution_count": 124,
   "metadata": {
    "Collapsed": "false"
   },
   "outputs": [],
   "source": [
    "test_skills_combo_final = []\n",
    "for i in test_skills:\n",
    "    test_skills_combo = list(itertools.combinations(i, 2))\n",
    "    test_skills_combo_final.append(test_skills_combo)"
   ]
  },
  {
   "cell_type": "code",
   "execution_count": 15,
   "metadata": {
    "Collapsed": "false"
   },
   "outputs": [],
   "source": [
    "data_skills_f = []\n",
    "for index in range(len(test_skills_combo_final)):\n",
    "    for x,y in test_skills_combo_final[index]:\n",
    "        try:\n",
    "            test = model_GOOGLE.similarity(x,y)\n",
    "        except:\n",
    "            pass\n",
    "        data_skills_f.append([x,y,test, 'job_cluster_'+str(index+1)])\n",
    "\n",
    "data_skills_df = pd.DataFrame(data_skills_f)"
   ]
  },
  {
   "cell_type": "code",
   "execution_count": null,
   "metadata": {
    "Collapsed": "false"
   },
   "outputs": [],
   "source": [
    "#p_75 = data_skills_f['Sim'].quantile(.95)\n",
    "\n",
    "cutoff_points = data_skills_df.groupby('Cluster').Sim.agg(lambda x: x.quantile(.95))\n",
    "cutoff_points.rename(columns={ data_skills_f.columns[1]: \"cut\" }, inplace = True)"
   ]
  },
  {
   "cell_type": "code",
   "execution_count": null,
   "metadata": {
    "Collapsed": "false"
   },
   "outputs": [],
   "source": [
    "full_data_job_skills_v1 = pd.merge(data_skills_f, cutoff_points, on='Cluster', how='left')\n",
    "full_data_job_skills_v1['Above_cut'] = full_data_job_skills_v1['Sim_x']>=full_data_job_skills_v1['Sim_y']\n",
    "filter_cut = full_data_job_skills_v1['Sim_x']>=full_data_job_skills_v1['Sim_y']\n",
    "reduced_full_data = full_data_job_skills_v1[filter_cut]\n",
    "reduced_full_v1 = reduced_full_data['Value_1'],reduced_full_data['Value_2'],reduced_full_data['Cluster']\n",
    "reduced_full_v1 = pd.DataFrame(reduced_full_v1).transpose()"
   ]
  },
  {
   "cell_type": "code",
   "execution_count": null,
   "metadata": {
    "Collapsed": "false"
   },
   "outputs": [],
   "source": []
  },
  {
   "cell_type": "markdown",
   "metadata": {
    "Collapsed": "false"
   },
   "source": [
    "# Course - Job Cluster Matching (KEYWORDS)\n",
    "\n",
    "**Run either following model, probably not both**"
   ]
  },
  {
   "cell_type": "markdown",
   "metadata": {
    "Collapsed": "false"
   },
   "source": [
    "## Neeraj's Method"
   ]
  },
  {
   "cell_type": "markdown",
   "metadata": {
    "Collapsed": "false"
   },
   "source": [
    "**NYC Civil Jobs**"
   ]
  },
  {
   "cell_type": "code",
   "execution_count": null,
   "metadata": {
    "Collapsed": "false"
   },
   "outputs": [],
   "source": [
    "jobs=grouped_jobs.reset_index()\n",
    "jobs['job_cluster_id']=jobs['300_clusters']+1\n",
    "jobs=jobs.drop('200_clusters', axis=1)"
   ]
  },
  {
   "cell_type": "code",
   "execution_count": null,
   "metadata": {
    "Collapsed": "false"
   },
   "outputs": [],
   "source": [
    "final_dic = {}\n",
    "for i in range(jobs.shape[0]):\n",
    "   var_job_id = jobs.loc[i,'job_cluster_id']\n",
    "   job_skills = jobs.loc[i,'MATCHED_COLUMN']\n",
    "   df = pd.DataFrame()\n",
    "   df = all_courses[['course_id', 'MATCHED_COLUMN']].copy()\n",
    "   df['job_vs_course_count'] = df['MATCHED_COLUMN'].apply(lambda x: len(set(x)&set(job_skills)))\n",
    "   new_df = pd.DataFrame()\n",
    "   new_df = df.sort_values('job_vs_course_count',ascending = False)[['course_id', 'job_vs_course_count']].head(10).copy()\n",
    "   temp_list = new_df.values.tolist()\n",
    "   final_dic[var_job_id] =  [var_job_id, temp_list]\n",
    "final_df = pd.DataFrame(list(final_dic.values()), columns=['job_cluster_id', 'course_id - job_vs_course_count'])\n",
    "final_df.head()"
   ]
  },
  {
   "cell_type": "markdown",
   "metadata": {
    "Collapsed": "false"
   },
   "source": [
    "**Glassdoor Jobs**"
   ]
  },
  {
   "cell_type": "code",
   "execution_count": null,
   "metadata": {
    "Collapsed": "false"
   },
   "outputs": [],
   "source": [
    "jobs=GD_grouped_jobs.reset_index()\n",
    "jobs['job_cluster_id']=jobs['300_clusters']+1\n",
    "jobs=jobs.drop('200_clusters', axis=1)"
   ]
  },
  {
   "cell_type": "code",
   "execution_count": null,
   "metadata": {
    "Collapsed": "false"
   },
   "outputs": [],
   "source": [
    "final_dic = {}\n",
    "for i in range(jobs.shape[0]):\n",
    "   var_job_id = jobs.loc[i,'job_cluster_id']\n",
    "   job_skills = jobs.loc[i,'MATCHED_COLUMN']\n",
    "   df = pd.DataFrame()\n",
    "   df = all_courses[['course_id', 'MATCHED_COLUMN']].copy()\n",
    "   df['job_vs_course_count'] = df['MATCHED_COLUMN'].apply(lambda x: len(set(x)&set(job_skills)))\n",
    "   new_df = pd.DataFrame()\n",
    "   new_df = df.sort_values('job_vs_course_count',ascending = False)[['course_id', 'job_vs_course_count']].head(10).copy()\n",
    "   temp_list = new_df.values.tolist()\n",
    "   final_dic[var_job_id] =  [var_job_id, temp_list]\n",
    "GD_final_df = pd.DataFrame(list(final_dic.values()), columns=['job_cluster_id', 'course_id - job_vs_course_count'])\n",
    "GD_final_df.head()"
   ]
  },
  {
   "cell_type": "markdown",
   "metadata": {
    "Collapsed": "false"
   },
   "source": [
    "## Keyword Columns for each Cluster"
   ]
  },
  {
   "cell_type": "markdown",
   "metadata": {
    "Collapsed": "false"
   },
   "source": [
    "**Matching NYC Civil Jobs**"
   ]
  },
  {
   "cell_type": "code",
   "execution_count": 18,
   "metadata": {
    "Collapsed": "false"
   },
   "outputs": [],
   "source": [
    "for i in range(grouped_jobs.shape[0]): # range = num of clusters\n",
    "    tmp_set_1 = set(grouped_jobs['MATCHED_COLUMN'][i])\n",
    "    \n",
    "    all_courses['job_cluster_'+str(i+1)]=all_courses['MATCHED_COLUMN'].apply(\n",
    "        lambda lst: len([s for s in lst if s in tmp_set_1])\n",
    "    )"
   ]
  },
  {
   "cell_type": "markdown",
   "metadata": {
    "Collapsed": "false"
   },
   "source": [
    "**Matching Glassdoor Jobs**"
   ]
  },
  {
   "cell_type": "code",
   "execution_count": null,
   "metadata": {
    "Collapsed": "false"
   },
   "outputs": [],
   "source": [
    "for i in range(GD_grouped_jobs.shape[0]): # range = num of clusters\n",
    "    tmp_set_1 = set(GD_grouped_jobs['MATCHED_COLUMN'][i])\n",
    "    \n",
    "    GD_all_courses['job_cluster_'+str(i+1)]=GD_all_courses['MATCHED_COLUMN_1'].apply(\n",
    "        lambda lst: len([s for s in lst if s in tmp_set_1])\n",
    "    )"
   ]
  },
  {
   "cell_type": "markdown",
   "metadata": {
    "Collapsed": "false"
   },
   "source": [
    "## Print to CSV"
   ]
  },
  {
   "cell_type": "code",
   "execution_count": null,
   "metadata": {
    "Collapsed": "false"
   },
   "outputs": [],
   "source": [
    "all_courses.drop('Unnamed: 0', axis=1, inplace=True)\n",
    "# all_courses.to_csv('course_cluster_data.csv')\n",
    "# job_cluster1=jobs_with_clusters.drop(['Unnamed: 0', 0, 'clusters', 'cluster_values', 'ColumnC', 'ColumnA', 'index_x', 'index_y', 'ColumnB', 'clean_column_A'], axis=1)\n",
    "# job_cluster1.to_csv('job_cluster_data.csv')"
   ]
  },
  {
   "cell_type": "code",
   "execution_count": null,
   "metadata": {
    "Collapsed": "false"
   },
   "outputs": [],
   "source": []
  },
  {
   "cell_type": "markdown",
   "metadata": {
    "Collapsed": "false"
   },
   "source": [
    "# Custom Matching for Tableau"
   ]
  },
  {
   "cell_type": "markdown",
   "metadata": {
    "Collapsed": "false"
   },
   "source": [
    "1. Matching by top 20 for each cluster\n",
    "2. Connect to cluster in jobs dataframe\n",
    "3. Drop index (weird column creator in Tableau)"
   ]
  },
  {
   "cell_type": "markdown",
   "metadata": {
    "Collapsed": "false"
   },
   "source": [
    "**Glassdoor**"
   ]
  },
  {
   "cell_type": "code",
   "execution_count": null,
   "metadata": {
    "Collapsed": "false"
   },
   "outputs": [],
   "source": [
    "empty=[]\n",
    "\n",
    "for cluster_num in range(300):\n",
    "    temp=list(GD_all_courses.nlargest(20, 'job_cluster_'+str(cluster_num+1), keep='first')['job_cluster_'+str(cluster_num+1)]), list(GD_all_courses.nlargest(20, 'job_cluster_'+str(cluster_num+1), keep='first').index)\n",
    "    for i in range(20):\n",
    "        empty.append([temp[0][i], temp[1][i], 'cluster_'+str(cluster_num+1)])\n",
    "\n",
    "GD_course_to_cluster=pd.DataFrame(empty)\n",
    "GD_course_to_cluster.columns=['values', 'course_index', 'cluster']"
   ]
  },
  {
   "cell_type": "markdown",
   "metadata": {
    "Collapsed": "false"
   },
   "source": [
    "**NYC Civil Jobs**"
   ]
  },
  {
   "cell_type": "code",
   "execution_count": 103,
   "metadata": {
    "Collapsed": "false"
   },
   "outputs": [],
   "source": [
    "empty=[]\n",
    "\n",
    "for cluster_num in range(300):\n",
    "    temp=list(all_courses.nlargest(20, 'job_cluster_'+str(cluster_num+1), keep='first')['job_cluster_'+str(cluster_num+1)]), list(all_courses.nlargest(20, 'job_cluster_'+str(cluster_num+1), keep='first').index)\n",
    "    for i in range(20):\n",
    "        empty.append([temp[0][i], temp[1][i], 'cluster_'+str(cluster_num+1)])\n",
    "\n",
    "course_to_cluster=pd.DataFrame(empty)\n",
    "course_to_cluster.columns=['values', 'course_index', 'cluster']"
   ]
  },
  {
   "cell_type": "markdown",
   "metadata": {
    "Collapsed": "false"
   },
   "source": [
    "## Print to CSV"
   ]
  },
  {
   "cell_type": "code",
   "execution_count": null,
   "metadata": {
    "Collapsed": "false"
   },
   "outputs": [],
   "source": [
    "all_courses.drop('Unnamed: 0', axis=1, inplace=True)\n",
    "# all_courses.to_csv('course_cluster_data.csv')\n",
    "# job_cluster1=jobs_with_clusters.drop(['Unnamed: 0', 0, 'clusters', 'cluster_values', 'ColumnC', 'ColumnA', 'index_x', 'index_y', 'ColumnB', 'clean_column_A'], axis=1)\n",
    "# job_cluster1.to_csv('job_cluster_data.csv')"
   ]
  },
  {
   "cell_type": "code",
   "execution_count": 114,
   "metadata": {
    "Collapsed": "false"
   },
   "outputs": [],
   "source": [
    "GD_course_to_cluster.to_csv('GD_course_to_cluster.csv')\n",
    "course_to_cluster.to_csv('course_to_cluster.csv')"
   ]
  },
  {
   "cell_type": "code",
   "execution_count": null,
   "metadata": {
    "Collapsed": "false"
   },
   "outputs": [],
   "source": []
  },
  {
   "cell_type": "markdown",
   "metadata": {
    "Collapsed": "true"
   },
   "source": [
    "# Dare2Vec"
   ]
  },
  {
   "cell_type": "code",
   "execution_count": 59,
   "metadata": {
    "Collapsed": "false"
   },
   "outputs": [],
   "source": [
    "# from gensim.test.utils import common_texts\n",
    "# from gensim.models.doc2vec import Doc2Vec, TaggedDocument"
   ]
  },
  {
   "cell_type": "code",
   "execution_count": null,
   "metadata": {
    "Collapsed": "false"
   },
   "outputs": [],
   "source": [
    "# from gensim.test.utils import common_texts\n",
    "# from gensim.models.doc2vec import Doc2Vec, TaggedDocument\n",
    "\n",
    "# documents = [TaggedDocument(doc, [i]) for i, doc in enumerate(common_texts)]\n",
    "# model = Doc2Vec(documents, vector_size=5, window=2, min_count=1, workers=4)\n",
    "\n",
    "# ####\n",
    "\n",
    "# from gensim.test.utils import get_tmpfile\n",
    "\n",
    "# fname = get_tmpfile(\"my_doc2vec_model\")\n",
    "\n",
    "# model.save(fname)\n",
    "# model = Doc2Vec.load(fname)  # you can continue training with the loaded model!"
   ]
  },
  {
   "cell_type": "code",
   "execution_count": null,
   "metadata": {
    "Collapsed": "false"
   },
   "outputs": [],
   "source": [
    "# model = Doc2Vec(documents, vector_size=5, window=2, min_count=1, workers=4)"
   ]
  },
  {
   "cell_type": "code",
   "execution_count": null,
   "metadata": {
    "Collapsed": "false"
   },
   "outputs": [],
   "source": []
  },
  {
   "cell_type": "code",
   "execution_count": null,
   "metadata": {
    "Collapsed": "false"
   },
   "outputs": [],
   "source": []
  },
  {
   "cell_type": "markdown",
   "metadata": {
    "Collapsed": "true"
   },
   "source": [
    "## Print to CSV"
   ]
  },
  {
   "cell_type": "code",
   "execution_count": null,
   "metadata": {
    "Collapsed": "false"
   },
   "outputs": [],
   "source": [
    "# all_courses.drop('Unnamed: 0', axis=1, inplace=True)\n",
    "# # all_courses.to_csv('course_cluster_data.csv')\n",
    "# # job_cluster1=jobs_with_clusters.drop(['Unnamed: 0', 0, 'clusters', 'cluster_values', 'ColumnC', 'ColumnA', 'index_x', 'index_y', 'ColumnB', 'clean_column_A'], axis=1)\n",
    "# # job_cluster1.to_csv('job_cluster_data.csv')"
   ]
  },
  {
   "cell_type": "code",
   "execution_count": null,
   "metadata": {
    "Collapsed": "false"
   },
   "outputs": [],
   "source": []
  }
 ],
 "metadata": {
  "kernelspec": {
   "display_name": "Python 3",
   "language": "python",
   "name": "python3"
  },
  "language_info": {
   "codemirror_mode": {
    "name": "ipython",
    "version": 3
   },
   "file_extension": ".py",
   "mimetype": "text/x-python",
   "name": "python",
   "nbconvert_exporter": "python",
   "pygments_lexer": "ipython3",
   "version": "3.7.3"
  }
 },
 "nbformat": 4,
 "nbformat_minor": 4
}
